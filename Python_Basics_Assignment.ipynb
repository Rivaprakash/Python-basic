{
  "nbformat": 4,
  "nbformat_minor": 0,
  "metadata": {
    "colab": {
      "provenance": []
    },
    "kernelspec": {
      "name": "python3",
      "display_name": "Python 3"
    },
    "language_info": {
      "name": "python"
    }
  },
  "cells": [
    {
      "cell_type": "markdown",
      "source": [
        "1. What is Python, and why is it popular?\n",
        "\n",
        "Ans- Python is an interpreted, object-oriented high level programming language with dynamic semantics.\n",
        "\n",
        "-> Interpreted: Python excecute the each code line by line.\n",
        "\n",
        "-> Object-oriented: Because it uses objects to design and organize software.\n",
        "\n",
        "-> High level: Human friendly language.\n",
        "\n",
        "Python is popular because of its features:\n",
        "\n",
        "-> Easy and simple to learn.\n",
        "\n",
        "-> Free and open sources.\n",
        "\n",
        "-> Scalable language.\n",
        "\n",
        "-> Platform independent."
      ],
      "metadata": {
        "id": "_R_bnIHrjh3M"
      }
    },
    {
      "cell_type": "markdown",
      "source": [
        "2. What is an interpreter in Python?\n",
        "\n",
        "Ans- An interpreter in python is a program that reads and execute python code line by line. It is like a translator, who converts the code into action that the computer can perform."
      ],
      "metadata": {
        "id": "y_nJw5-nlLQ6"
      }
    },
    {
      "cell_type": "markdown",
      "source": [
        "3. What are pre-defined keywords in Python?\n",
        "\n",
        "Ans- Keywords are reserved words in python.we cannot use them as names for variables, functions, or anything else in code because they have fixed meanings and functions. Like, if, else, True, False, is, in, etc. By coding help(\"Keywords\") it will show the lsit of all the pre-defined keywords available in python."
      ],
      "metadata": {
        "id": "fu_z8nD4mkiA"
      }
    },
    {
      "cell_type": "markdown",
      "source": [
        "4. Can keywords be used as variable names?\n",
        "\n",
        "Ans-No, we cannot use keywords as variable names because keywords have special meanings and functions reserved in python."
      ],
      "metadata": {
        "id": "a7g3ekxtnNM9"
      }
    },
    {
      "cell_type": "markdown",
      "source": [
        "5. What is mutability in Python?\n",
        "\n",
        "Ans-Mutability in Python means we can change the content of something after creating it like List, Dict. For example,\n",
        "\n",
        "list =[1,4,3]\n",
        "\n",
        "list[1] = 2\n",
        "\n",
        "print(list)  #output(1,2,3)"
      ],
      "metadata": {
        "id": "C_UMMdTjoD-d"
      }
    },
    {
      "cell_type": "markdown",
      "source": [
        "6. Why are lists mutable, but tuples are immutable?\n",
        "\n",
        "Ans-Lists are mutable, and tuples are immutable because of how they are designed to work.\n",
        "\n",
        "Lists are mutable: They are meant to store a collection of items that can change. If we want to add, remove, or modify items in a list, Python allows to  changes directly.\n",
        "\n",
        "list =[1,2,4,5]\n",
        "\n",
        "list[0] = 10\n",
        "\n",
        "print(list) #output(10,2,4,5)\n",
        "\n",
        "Tuples are immutable: They are designed to store fixed data that should not change. This makes them faster and safer to use in certain situations.\n",
        "\n",
        "list =[1,2,4,5]\n",
        "\n",
        "list[0] = 10\n",
        "\n",
        "print(list) #output(Error, you cannot change a tuple)"
      ],
      "metadata": {
        "id": "pcYXtwAeoJsZ"
      }
    },
    {
      "cell_type": "markdown",
      "source": [
        "7.  What is the difference between “==” and “is” operators in Python?\n",
        "\n",
        "Ans- The \"==\" and \"is\" operator is used for comparision.\n",
        "\n",
        "\"==\" is relational operator .\"==\" operator is used to check if two values are same.For example,\n",
        "\n",
        "2 == 2 is True because the values are equal.\n",
        "\n",
        "\"is\" is identity operator. \"is\" operator is used to check if two objects are the exact same object in the memory.For example,\n",
        "\n",
        "a is b , True only if a and b point to the same memory location."
      ],
      "metadata": {
        "id": "QnKmZ1p5oSaV"
      }
    },
    {
      "cell_type": "markdown",
      "source": [
        "8. What are logical operators in Python?\n",
        "\n",
        "Ans- Logical operators returns the result in True or False.\n",
        "\n",
        "It is of 3 tyoes:\n",
        "\n",
        "-> NOT: It shows True to False and vice-versa.\n",
        "\n",
        "-> AND: If both the conditions are satisfied, it show True otherwise False.\n",
        "\n",
        "-> OR: If any one of the condition is True, it shows True."
      ],
      "metadata": {
        "id": "PKZKtSKEoYwS"
      }
    },
    {
      "cell_type": "markdown",
      "source": [
        "9.  What is type casting in Python?\n",
        "\n",
        "Ans- Type casting is a process of changing datatype.For example, if\n",
        "\n",
        "a = 1\n",
        "\n",
        "b = \"2\"\n",
        "\n",
        "datatype of a is \"int\" and datatype of b is \"str\" , to convert the datatype we use type casting, c = int(b)."
      ],
      "metadata": {
        "id": "UtSJMCjqpeGo"
      }
    },
    {
      "cell_type": "markdown",
      "source": [
        "10. What is the difference between implicit and explicit type casting?\n",
        "\n",
        "Ans- Implicit type casting dones automatically by the python. Example, when adding int and float, python converts the int into float.\n",
        "\n",
        "Explicit type casting done manually. Example, coverting str into int,\n",
        "\n",
        " print= int(\"23\")."
      ],
      "metadata": {
        "id": "A-hZWTlyqH6r"
      }
    },
    {
      "cell_type": "markdown",
      "source": [
        "11.  What is the purpose of conditional statements in Python?\n",
        "\n",
        "\n",
        "Ans- The purpose of conditional statements in Python is to make decisions in the program. They let the code do different things depending on whether a condition is True or False.\n",
        "\n",
        "Common conditional statements are:\n",
        "\n",
        "IF: Runs a block of code if the condition is True.\n",
        "\n",
        "ELIF: hecks another condition if the first one is False.\n",
        "\n",
        "ELSE: Runs a block of code if all previous conditions are False."
      ],
      "metadata": {
        "id": "13b-j3orsgrH"
      }
    },
    {
      "cell_type": "markdown",
      "source": [
        "12.  How does the elif statement work?\n",
        "\n",
        "Ans- ELIF statement checks another condition if the previous IF conditionis False. It works like Else IF.\n",
        "\n",
        "For example,\n",
        "\n",
        "x = 10\n",
        "\n",
        "\n",
        "if x > 15:\n",
        "\n",
        "\n",
        "  print(\"x is greater than 15\")\n",
        "\n",
        "elif x == 10:  # Checked if the first condition is false\n",
        "\n",
        "\n",
        "  print(\"x is equal to 10\")\n",
        "else:\n",
        "\n",
        "\n",
        "   print(\"x is less than 10\")\n"
      ],
      "metadata": {
        "id": "5kQ-FhEXtMYp"
      }
    },
    {
      "cell_type": "markdown",
      "source": [
        "13. What is the difference between for and while loops?\n",
        "\n",
        "Ans-For loop is used when we know how many times we want to repeat something.It works by looping over a sequence (like a list, range, etc.) or a set number of times. Where as While loops is used when we want to repeat something until a condition is met. It keeps looping as long as the condition is True."
      ],
      "metadata": {
        "id": "_N2p1vt5tfHZ"
      }
    },
    {
      "cell_type": "markdown",
      "source": [
        "14. Describe a scenario where a while loop is more suitable than a for loop.\n",
        "\n",
        "Ans-A while loop is more suitable than a for loop when we don't know how many times we need to repeat something, but we have a condition that needs to be checked to keep the loop going.\n",
        "\n",
        "Example:\n",
        "Imagine we are making a game where the player has to keep guessing a secret number until they get it right. we don't know how many guesses it will take, so a while loop is perfect here.\n",
        "\n",
        "secret_number = 7\n",
        "\n",
        "guess = 0\n",
        "\n",
        "while guess != secret_number:   # Keep guessing until the player guesses correctly\n",
        "\n",
        "guess = int(input(\"Guess the number: \"))\n",
        "\n",
        "print(\"You guessed it right!\")\n"
      ],
      "metadata": {
        "id": "d0e8fwE6uTdk"
      }
    },
    {
      "cell_type": "code",
      "source": [
        "#1.  Write a Python program to print \"Hello, World!\n",
        "\n",
        "print(\"Hello, World!\")"
      ],
      "metadata": {
        "colab": {
          "base_uri": "https://localhost:8080/"
        },
        "id": "NJ9YlN2quX3-",
        "outputId": "9ac37977-ed1e-4c08-f353-5f245b42a4cb"
      },
      "execution_count": null,
      "outputs": [
        {
          "output_type": "stream",
          "name": "stdout",
          "text": [
            "Hello, World!\n"
          ]
        }
      ]
    },
    {
      "cell_type": "code",
      "source": [
        "#2. Write a Python program that displays your name and age.\n",
        "\n",
        "Name = \"Riva Prakash\"\n",
        "Age = 21\n",
        "\n",
        "print(Name)\n",
        "print(Age)"
      ],
      "metadata": {
        "colab": {
          "base_uri": "https://localhost:8080/"
        },
        "id": "7vw2KrBmunt0",
        "outputId": "85c7dbbd-4dee-48ef-9fdf-4713c1811338"
      },
      "execution_count": null,
      "outputs": [
        {
          "output_type": "stream",
          "name": "stdout",
          "text": [
            "Riva Prakash\n",
            "21\n"
          ]
        }
      ]
    },
    {
      "cell_type": "code",
      "source": [
        "#3. Write code to print all the pre-defined keywords in Python using the keyword library.\n",
        "\n",
        "help(\"keywords\")"
      ],
      "metadata": {
        "colab": {
          "base_uri": "https://localhost:8080/"
        },
        "id": "N6KPOYpkvEUN",
        "outputId": "20d48fa7-0acd-4736-de7d-d675dbc82384"
      },
      "execution_count": null,
      "outputs": [
        {
          "output_type": "stream",
          "name": "stdout",
          "text": [
            "\n",
            "Here is a list of the Python keywords.  Enter any keyword to get more help.\n",
            "\n",
            "False               class               from                or\n",
            "None                continue            global              pass\n",
            "True                def                 if                  raise\n",
            "and                 del                 import              return\n",
            "as                  elif                in                  try\n",
            "assert              else                is                  while\n",
            "async               except              lambda              with\n",
            "await               finally             nonlocal            yield\n",
            "break               for                 not                 \n",
            "\n"
          ]
        }
      ]
    },
    {
      "cell_type": "code",
      "source": [
        "#4. Write a program that checks if a given word is a Python keyword.\n",
        "\n",
        "import keyword\n",
        "word = input(\"Enter a word to check if it is a Python keyword: \")\n",
        "\n",
        "if keyword.iskeyword(word):\n",
        "  print(word, \"is a Python keyword.\")\n",
        "else:\n",
        "    print(word, \"is not a Python keyword.\")\n"
      ],
      "metadata": {
        "id": "tLuPQUpyAKka",
        "colab": {
          "base_uri": "https://localhost:8080/"
        },
        "outputId": "eb359eff-d57b-47c9-acc9-49f09044dd6a"
      },
      "execution_count": 5,
      "outputs": [
        {
          "output_type": "stream",
          "name": "stdout",
          "text": [
            "Enter a word to check if it is a Python keyword: else\n",
            "else is a Python keyword.\n"
          ]
        }
      ]
    },
    {
      "cell_type": "code",
      "source": [
        "#5. Create a list and tuple in Python, and demonstrate how attempting to change an element works differently for each.\n",
        "\n",
        "list = [1,10,23,45,67,8,34]\n",
        "print(list)\n",
        "\n",
        "list[5] = 80  #changing element in list because it is mutuable\n",
        "print(list)\n",
        "\n",
        "tup = (1,10,23,45,67,8,34)\n",
        "print(tup)\n",
        "\n",
        "tup[5] = 80  #changing element in tuple, shows error because it is not mutuable\n",
        "print(tup)\n"
      ],
      "metadata": {
        "id": "Dsu6S334BDsa",
        "colab": {
          "base_uri": "https://localhost:8080/",
          "height": 245
        },
        "outputId": "f0aa918d-6424-499d-9ec4-185ec6315f4e"
      },
      "execution_count": 8,
      "outputs": [
        {
          "output_type": "stream",
          "name": "stdout",
          "text": [
            "[1, 10, 23, 45, 67, 8, 34]\n",
            "[1, 10, 23, 45, 67, 80, 34]\n",
            "(1, 10, 23, 45, 67, 8, 34)\n"
          ]
        },
        {
          "output_type": "error",
          "ename": "TypeError",
          "evalue": "'tuple' object does not support item assignment",
          "traceback": [
            "\u001b[0;31m---------------------------------------------------------------------------\u001b[0m",
            "\u001b[0;31mTypeError\u001b[0m                                 Traceback (most recent call last)",
            "\u001b[0;32m<ipython-input-8-0e8f51bc964c>\u001b[0m in \u001b[0;36m<cell line: 12>\u001b[0;34m()\u001b[0m\n\u001b[1;32m     10\u001b[0m \u001b[0mprint\u001b[0m\u001b[0;34m(\u001b[0m\u001b[0mtup\u001b[0m\u001b[0;34m)\u001b[0m\u001b[0;34m\u001b[0m\u001b[0;34m\u001b[0m\u001b[0m\n\u001b[1;32m     11\u001b[0m \u001b[0;34m\u001b[0m\u001b[0m\n\u001b[0;32m---> 12\u001b[0;31m \u001b[0mtup\u001b[0m\u001b[0;34m[\u001b[0m\u001b[0;36m5\u001b[0m\u001b[0;34m]\u001b[0m \u001b[0;34m=\u001b[0m \u001b[0;36m80\u001b[0m  \u001b[0;31m#changing element in tuple, shows error because it is not mutuable\u001b[0m\u001b[0;34m\u001b[0m\u001b[0;34m\u001b[0m\u001b[0m\n\u001b[0m\u001b[1;32m     13\u001b[0m \u001b[0mprint\u001b[0m\u001b[0;34m(\u001b[0m\u001b[0mtup\u001b[0m\u001b[0;34m)\u001b[0m\u001b[0;34m\u001b[0m\u001b[0;34m\u001b[0m\u001b[0m\n",
            "\u001b[0;31mTypeError\u001b[0m: 'tuple' object does not support item assignment"
          ]
        }
      ]
    },
    {
      "cell_type": "code",
      "source": [
        "#6. Write a function to demonstrate the behavior of mutable and immutable arguments.\n",
        ""
      ],
      "metadata": {
        "id": "il31x_O7BLrW"
      },
      "execution_count": 13,
      "outputs": []
    },
    {
      "cell_type": "code",
      "source": [
        "#7. Write a function to demonstrate the behavior of mutable and immutable arguments.\n"
      ],
      "metadata": {
        "id": "or2FJpgaBVzv"
      },
      "execution_count": null,
      "outputs": []
    },
    {
      "cell_type": "code",
      "source": [
        "#8. Write a program to demonstrate the use of logical operators\n",
        "\n",
        "    #NOT\n",
        "a = 21\n",
        "b = 19\n",
        "print(not(a > b))\n",
        "\n",
        "    #AND\n",
        "a = 20\n",
        "b = 40\n",
        "print(a == b and a>b)\n",
        "\n",
        "    #OR\n",
        "a = 40\n",
        "b = 30\n",
        "print(a == b or a>b)"
      ],
      "metadata": {
        "colab": {
          "base_uri": "https://localhost:8080/"
        },
        "id": "bsXzFpCNBt0Z",
        "outputId": "ef67f86d-606d-4466-bea6-5e1defab394c"
      },
      "execution_count": null,
      "outputs": [
        {
          "output_type": "stream",
          "name": "stdout",
          "text": [
            "False\n",
            "False\n",
            "True\n"
          ]
        }
      ]
    },
    {
      "cell_type": "code",
      "source": [
        "#9. Write a Python program to convert user input from string to integer, float, and boolean types\n",
        "\n",
        "    #String to integer\n",
        "val = input(\"Enter Number = \")\n",
        "\n",
        "print(val)\n",
        "print(type(val))\n",
        "\n",
        "val1 = int(input(\"Enter Number\"))\n",
        "print(type(val1))\n",
        "\n",
        "    #String to float\n",
        "num = input(\"Enter Number = \")\n",
        "\n",
        "print(num)\n",
        "print(type(num))\n",
        "\n",
        "num1 = float(input(\"Enter Number\"))\n",
        "print(type(num1))\n",
        "\n",
        "    #String to boolean\n",
        "a = input(\"Enter Number = \")\n",
        "\n",
        "print(a)\n",
        "print(type(a))\n",
        "\n",
        "a1 = bool(input(\"Enter Number\"))\n",
        "print(type(a1))\n"
      ],
      "metadata": {
        "colab": {
          "base_uri": "https://localhost:8080/"
        },
        "id": "KXxx0EdACK4V",
        "outputId": "9333bb51-6666-4fc2-f066-915cf2c2ec17"
      },
      "execution_count": null,
      "outputs": [
        {
          "output_type": "stream",
          "name": "stdout",
          "text": [
            "Enter Number = 21\n",
            "21\n",
            "<class 'str'>\n",
            "Enter Number21\n",
            "<class 'int'>\n",
            "Enter Number = 22\n",
            "22\n",
            "<class 'str'>\n",
            "Enter Number22\n",
            "<class 'float'>\n",
            "Enter Number = 22\n",
            "22\n",
            "<class 'str'>\n",
            "Enter Number22\n",
            "<class 'bool'>\n"
          ]
        }
      ]
    },
    {
      "cell_type": "code",
      "source": [
        "#10.  Write code to demonstrate type casting with list elements.\n",
        "\n",
        "num1 = input(\"Enter the any value = \")   #for eg: 12\n",
        "new_num1 = int(num1)\n",
        "print(type(new_num1))  #<class 'int'>\n",
        "#-----------------------------------------------------\n",
        "\n",
        "num2 = input(\"Enter the any value = \")  #for eg: 14\n",
        "new_num2 = float(num2)\n",
        "print(type(new_num2))  #<class 'float'>\n",
        "#-----------------------------------------------------\n",
        "\n",
        "num3 = input(\"Enter the any value = \")  #for eg: True\n",
        "new_num3 = bool(num3)\n",
        "print(type(new_num3))  #<class 'bool'>\n"
      ],
      "metadata": {
        "id": "ICXFCnFEEbAv",
        "colab": {
          "base_uri": "https://localhost:8080/"
        },
        "outputId": "8023feb2-b114-45a2-d342-037407ead5b7"
      },
      "execution_count": 1,
      "outputs": [
        {
          "output_type": "stream",
          "name": "stdout",
          "text": [
            "Enter the any value = 12\n",
            "<class 'int'>\n",
            "Enter the any value = 14\n",
            "<class 'float'>\n",
            "Enter the any value = true\n",
            "<class 'bool'>\n"
          ]
        }
      ]
    },
    {
      "cell_type": "code",
      "source": [
        "#11. Write a program that checks if a number is positive, negative, or zero.\n",
        "\n",
        "num = float(input(\"Enter a number: \"))\n",
        "\n",
        "if num > 0:\n",
        "    print(\"The number is positive.\")\n",
        "elif num < 0:\n",
        "    print(\"The number is negative.\")\n",
        "else:\n",
        "    print(\"The number is zero.\")\n"
      ],
      "metadata": {
        "colab": {
          "base_uri": "https://localhost:8080/"
        },
        "id": "B6qI23oGE5GN",
        "outputId": "b6798817-2590-4ec6-b27f-41f4489aeb71"
      },
      "execution_count": null,
      "outputs": [
        {
          "output_type": "stream",
          "name": "stdout",
          "text": [
            "Enter a number: 12\n",
            "The number is positive.\n"
          ]
        }
      ]
    },
    {
      "cell_type": "code",
      "source": [
        "#12. Write a for loop to print numbers from 1 to 10.\n",
        "\n",
        "for num in range(1, 11):\n",
        "  print(num)"
      ],
      "metadata": {
        "id": "gXSszmoCFL9q",
        "colab": {
          "base_uri": "https://localhost:8080/"
        },
        "outputId": "b4565ad8-8bf5-4c3a-f172-885fa05f4da4"
      },
      "execution_count": 6,
      "outputs": [
        {
          "output_type": "stream",
          "name": "stdout",
          "text": [
            "1\n",
            "2\n",
            "3\n",
            "4\n",
            "5\n",
            "6\n",
            "7\n",
            "8\n",
            "9\n",
            "10\n"
          ]
        }
      ]
    },
    {
      "cell_type": "code",
      "source": [
        "#13. Write a Python program to find the sum of all even numbers between 1 and 50.\n",
        "\n",
        "val = 0\n",
        "\n",
        "for num in range(1, 51):  # Loop through numbers from 1 to 50\n",
        "    if num % 2 == 0:  # Check if the number is even\n",
        "        val += num\n",
        "\n",
        "print(\"The sum of all even numbers between 1 and 50 is:\", val)\n"
      ],
      "metadata": {
        "id": "x4SyYZVnFSa0",
        "colab": {
          "base_uri": "https://localhost:8080/"
        },
        "outputId": "e633a09f-5b7f-4d8b-e580-52ad1d5cbde9"
      },
      "execution_count": 9,
      "outputs": [
        {
          "output_type": "stream",
          "name": "stdout",
          "text": [
            "The sum of all even numbers between 1 and 50 is: 650\n"
          ]
        }
      ]
    },
    {
      "cell_type": "code",
      "source": [
        "#14. Write a program to reverse a string using a while loop.\n",
        "\n",
        "original_string = input(\"Enter a string: \")\n",
        "\n",
        "reversed_string = \"\"\n",
        "index = len(original_string) - 1  # Start from the last character\n",
        "\n",
        "# Use a while loop to reverse the string\n",
        "while index >= 0:\n",
        "    reversed_string += original_string[index]  # Add the character to the reversed string\n",
        "    index -= 1  # Move to the previous character\n",
        "\n",
        "print(\"Reversed string:\", reversed_string)\n"
      ],
      "metadata": {
        "id": "BxJZQmxrFYi2",
        "colab": {
          "base_uri": "https://localhost:8080/"
        },
        "outputId": "7e465b28-7e98-4359-c775-a29709c5c5b7"
      },
      "execution_count": 10,
      "outputs": [
        {
          "output_type": "stream",
          "name": "stdout",
          "text": [
            "Enter a string: riva\n",
            "Reversed string: avir\n"
          ]
        }
      ]
    },
    {
      "cell_type": "code",
      "source": [
        "#15. Write a Python program to calculate the factorial of a number provided by the user using a while loop.\n",
        "\n",
        "num = int(input(\"Enter a positive number: \"))\n",
        "\n",
        "factorial = 1\n",
        "current = num\n",
        "\n",
        "# Calculate factorial using a while loop\n",
        "while current > 0:\n",
        "    factorial *= current  # Multiply current number with factorial\n",
        "    current -= 1          # Decrease the current number\n",
        "\n",
        "print(f\"The factorial of {num} is: {factorial}\")\n"
      ],
      "metadata": {
        "id": "1awuWnkpFcd4",
        "colab": {
          "base_uri": "https://localhost:8080/"
        },
        "outputId": "a22183a2-e723-4827-ca06-a418d6d72bc2"
      },
      "execution_count": 11,
      "outputs": [
        {
          "output_type": "stream",
          "name": "stdout",
          "text": [
            "Enter a positive number: 12\n",
            "The factorial of 12 is: 479001600\n"
          ]
        }
      ]
    }
  ]
}